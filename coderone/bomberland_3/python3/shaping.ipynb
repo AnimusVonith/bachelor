{
 "cells": [
  {
   "cell_type": "code",
   "execution_count": 1,
   "id": "d2ec3502",
   "metadata": {},
   "outputs": [],
   "source": [
    "from typing import Dict\n",
    "import numpy as np\n",
    "import pandas as pd\n",
    "import matplotlib.pyplot as plt"
   ]
  },
  {
   "cell_type": "code",
   "execution_count": 2,
   "id": "25469f52",
   "metadata": {},
   "outputs": [],
   "source": [
    "mock_15x15_state: Dict = {\n",
    "    \"units\":[\n",
    "        {\"coordinates\":[0,5],\"hp\":3,\"inventory\":{\"bombs\":3},\"blast_diameter\":3,\"unit_id\":\"c\",\"agent_id\":\"a\",\"invulnerability\":0},\n",
    "        {\"coordinates\":[14,5],\"hp\":3,\"inventory\":{\"bombs\":3},\"blast_diameter\":3,\"unit_id\":\"d\",\"agent_id\":\"b\",\"invulnerability\":0},\n",
    "        {\"coordinates\":[5,7],\"hp\":3,\"inventory\":{\"bombs\":3},\"blast_diameter\":3,\"unit_id\":\"e\",\"agent_id\":\"a\",\"invulnerability\":0},\n",
    "        {\"coordinates\":[9,7],\"hp\":3,\"inventory\":{\"bombs\":3},\"blast_diameter\":3,\"unit_id\":\"f\",\"agent_id\":\"b\",\"invulnerability\":0},\n",
    "        {\"coordinates\":[13,14],\"hp\":3,\"inventory\":{\"bombs\":3},\"blast_diameter\":3,\"unit_id\":\"g\",\"agent_id\":\"a\",\"invulnerability\":0},\n",
    "        {\"coordinates\":[1,14],\"hp\":3,\"inventory\":{\"bombs\":3},\"blast_diameter\":3,\"unit_id\":\"h\",\"agent_id\":\"b\",\"invulnerability\":0}\n",
    "    ],\n",
    "    \"entities\":[\n",
    "        {\"created\":0,\"x\":10,\"y\":11,\"type\":\"m\"},\n",
    "        {\"created\":0,\"x\":4,\"y\":11,\"type\":\"m\"},\n",
    "        {\"created\":0,\"x\":14,\"y\":6,\"type\":\"m\"},\n",
    "        {\"created\":0,\"x\":0,\"y\":6,\"type\":\"m\"},\n",
    "        {\"created\":0,\"x\":11,\"y\":12,\"type\":\"m\"},\n",
    "        {\"created\":0,\"x\":3,\"y\":12,\"type\":\"m\"},\n",
    "        {\"created\":0,\"x\":11,\"y\":6,\"type\":\"m\"},\n",
    "        {\"created\":0,\"x\":3,\"y\":6,\"type\":\"m\"},\n",
    "        {\"created\":0,\"x\":6,\"y\":8,\"type\":\"m\"},\n",
    "        {\"created\":0,\"x\":8,\"y\":8,\"type\":\"m\"},\n",
    "        {\"created\":0,\"x\":14,\"y\":14,\"type\":\"m\"},\n",
    "        {\"created\":0,\"x\":0,\"y\":14,\"type\":\"m\"},\n",
    "        {\"created\":0,\"x\":9,\"y\":5,\"type\":\"m\"},\n",
    "        {\"created\":0,\"x\":5,\"y\":5,\"type\":\"m\"},\n",
    "        {\"created\":0,\"x\":2,\"y\":7,\"type\":\"m\"},\n",
    "        {\"created\":0,\"x\":12,\"y\":7,\"type\":\"m\"},\n",
    "        {\"created\":0,\"x\":6,\"y\":14,\"type\":\"m\"},\n",
    "        {\"created\":0,\"x\":8,\"y\":14,\"type\":\"m\"},\n",
    "        {\"created\":0,\"x\":4,\"y\":9,\"type\":\"m\"},\n",
    "        {\"created\":0,\"x\":10,\"y\":9,\"type\":\"m\"},\n",
    "        {\"created\":0,\"x\":5,\"y\":6,\"type\":\"m\"},\n",
    "        {\"created\":0,\"x\":9,\"y\":6,\"type\":\"m\"},\n",
    "        {\"created\":0,\"x\":6,\"y\":11,\"type\":\"m\"},\n",
    "        {\"created\":0,\"x\":8,\"y\":11,\"type\":\"m\"},\n",
    "        {\"created\":0,\"x\":5,\"y\":2,\"type\":\"m\"},\n",
    "        {\"created\":0,\"x\":9,\"y\":2,\"type\":\"m\"},\n",
    "        {\"created\":0,\"x\":8,\"y\":9,\"type\":\"m\"},\n",
    "        {\"created\":0,\"x\":6,\"y\":9,\"type\":\"m\"},\n",
    "        {\"created\":0,\"x\":0,\"y\":12,\"type\":\"m\"},\n",
    "        {\"created\":0,\"x\":14,\"y\":12,\"type\":\"m\"},\n",
    "        {\"created\":0,\"x\":12,\"y\":12,\"type\":\"m\"},\n",
    "        {\"created\":0,\"x\":2,\"y\":12,\"type\":\"m\"},\n",
    "        {\"created\":0,\"x\":1,\"y\":1,\"type\":\"m\"},\n",
    "        {\"created\":0,\"x\":13,\"y\":1,\"type\":\"m\"},\n",
    "        {\"created\":0,\"x\":11,\"y\":0,\"type\":\"m\"},\n",
    "        {\"created\":0,\"x\":3,\"y\":0,\"type\":\"m\"},\n",
    "        {\"created\":0,\"x\":12,\"y\":1,\"type\":\"m\"},\n",
    "        {\"created\":0,\"x\":2,\"y\":1,\"type\":\"m\"},\n",
    "        {\"created\":0,\"x\":0,\"y\":10,\"type\":\"m\"},\n",
    "        {\"created\":0,\"x\":14,\"y\":10,\"type\":\"m\"},\n",
    "        {\"created\":0,\"x\":14,\"y\":4,\"type\":\"m\"},\n",
    "        {\"created\":0,\"x\":0,\"y\":4,\"type\":\"m\"},\n",
    "        {\"created\":0,\"x\":4,\"y\":2,\"type\":\"m\"},\n",
    "        {\"created\":0,\"x\":10,\"y\":2,\"type\":\"m\"},\n",
    "        {\"created\":0,\"x\":11,\"y\":9,\"type\":\"m\"},\n",
    "        {\"created\":0,\"x\":3,\"y\":9,\"type\":\"m\"},\n",
    "        {\"created\":0,\"x\":8,\"y\":5,\"type\":\"m\"},\n",
    "        {\"created\":0,\"x\":6,\"y\":5,\"type\":\"m\"},\n",
    "        {\"created\":0,\"x\":4,\"y\":6,\"type\":\"m\"},\n",
    "        {\"created\":0,\"x\":10,\"y\":6,\"type\":\"m\"},\n",
    "\n",
    "        {\"created\":0,\"x\":1,\"y\":6,\"type\":\"w\",\"hp\":1},\n",
    "        {\"created\":0,\"x\":13,\"y\":6,\"type\":\"w\",\"hp\":1},\n",
    "        {\"created\":0,\"x\":8,\"y\":3,\"type\":\"w\",\"hp\":1},\n",
    "        {\"created\":0,\"x\":6,\"y\":3,\"type\":\"w\",\"hp\":1},\n",
    "        {\"created\":0,\"x\":6,\"y\":7,\"type\":\"w\",\"hp\":1},\n",
    "        {\"created\":0,\"x\":8,\"y\":7,\"type\":\"w\",\"hp\":1},\n",
    "        {\"created\":0,\"x\":11,\"y\":7,\"type\":\"w\",\"hp\":1},\n",
    "        {\"created\":0,\"x\":3,\"y\":7,\"type\":\"w\",\"hp\":1},\n",
    "        {\"created\":0,\"x\":9,\"y\":3,\"type\":\"w\",\"hp\":1},\n",
    "        {\"created\":0,\"x\":5,\"y\":3,\"type\":\"w\",\"hp\":1},\n",
    "        {\"created\":0,\"x\":1,\"y\":13,\"type\":\"w\",\"hp\":1},\n",
    "        {\"created\":0,\"x\":13,\"y\":13,\"type\":\"w\",\"hp\":1},\n",
    "        {\"created\":0,\"x\":14,\"y\":2,\"type\":\"w\",\"hp\":1},\n",
    "        {\"created\":0,\"x\":0,\"y\":2,\"type\":\"w\",\"hp\":1},\n",
    "        {\"created\":0,\"x\":10,\"y\":0,\"type\":\"w\",\"hp\":1},\n",
    "        {\"created\":0,\"x\":4,\"y\":0,\"type\":\"w\",\"hp\":1},\n",
    "        {\"created\":0,\"x\":2,\"y\":3,\"type\":\"w\",\"hp\":1},\n",
    "        {\"created\":0,\"x\":12,\"y\":3,\"type\":\"w\",\"hp\":1},\n",
    "        {\"created\":0,\"x\":13,\"y\":9,\"type\":\"w\",\"hp\":1},\n",
    "        {\"created\":0,\"x\":1,\"y\":9,\"type\":\"w\",\"hp\":1},\n",
    "        {\"created\":0,\"x\":6,\"y\":1,\"type\":\"w\",\"hp\":1},\n",
    "        {\"created\":0,\"x\":8,\"y\":1,\"type\":\"w\",\"hp\":1},\n",
    "        {\"created\":0,\"x\":5,\"y\":4,\"type\":\"w\",\"hp\":1},\n",
    "        {\"created\":0,\"x\":9,\"y\":4,\"type\":\"w\",\"hp\":1},\n",
    "        {\"created\":0,\"x\":11,\"y\":4,\"type\":\"w\",\"hp\":1},\n",
    "        {\"created\":0,\"x\":3,\"y\":4,\"type\":\"w\",\"hp\":1},\n",
    "        {\"created\":0,\"x\":0,\"y\":1,\"type\":\"w\",\"hp\":1},\n",
    "        {\"created\":0,\"x\":14,\"y\":1,\"type\":\"w\",\"hp\":1},\n",
    "        {\"created\":0,\"x\":8,\"y\":0,\"type\":\"w\",\"hp\":1},\n",
    "        {\"created\":0,\"x\":6,\"y\":0,\"type\":\"w\",\"hp\":1},\n",
    "        {\"created\":0,\"x\":13,\"y\":7,\"type\":\"w\",\"hp\":1},\n",
    "        {\"created\":0,\"x\":1,\"y\":7,\"type\":\"w\",\"hp\":1},\n",
    "        {\"created\":0,\"x\":3,\"y\":8,\"type\":\"w\",\"hp\":1},\n",
    "        {\"created\":0,\"x\":11,\"y\":8,\"type\":\"w\",\"hp\":1},\n",
    "        {\"created\":0,\"x\":10,\"y\":7,\"type\":\"w\",\"hp\":1},\n",
    "        {\"created\":0,\"x\":4,\"y\":7,\"type\":\"w\",\"hp\":1},\n",
    "        {\"created\":0,\"x\":14,\"y\":0,\"type\":\"w\",\"hp\":1},\n",
    "        {\"created\":0,\"x\":0,\"y\":0,\"type\":\"w\",\"hp\":1},\n",
    "        {\"created\":0,\"x\":9,\"y\":1,\"type\":\"w\",\"hp\":1},\n",
    "        {\"created\":0,\"x\":5,\"y\":1,\"type\":\"w\",\"hp\":1},\n",
    "        {\"created\":0,\"x\":11,\"y\":5,\"type\":\"w\",\"hp\":1},\n",
    "        {\"created\":0,\"x\":3,\"y\":5,\"type\":\"w\",\"hp\":1},\n",
    "        {\"created\":0,\"x\":2,\"y\":10,\"type\":\"w\",\"hp\":1},\n",
    "        {\"created\":0,\"x\":12,\"y\":10,\"type\":\"w\",\"hp\":1},\n",
    "        {\"created\":0,\"x\":9,\"y\":12,\"type\":\"w\",\"hp\":1},\n",
    "        {\"created\":0,\"x\":5,\"y\":12,\"type\":\"w\",\"hp\":1},\n",
    "        {\"created\":0,\"x\":1,\"y\":11,\"type\":\"w\",\"hp\":1},\n",
    "        {\"created\":0,\"x\":13,\"y\":11,\"type\":\"w\",\"hp\":1},\n",
    "        {\"created\":0,\"x\":13,\"y\":12,\"type\":\"w\",\"hp\":1},\n",
    "        {\"created\":0,\"x\":1,\"y\":12,\"type\":\"w\",\"hp\":1},\n",
    "        {\"created\":0,\"x\":4,\"y\":10,\"type\":\"w\",\"hp\":1},\n",
    "        {\"created\":0,\"x\":10,\"y\":10,\"type\":\"w\",\"hp\":1},\n",
    "        {\"created\":0,\"x\":13,\"y\":10,\"type\":\"w\",\"hp\":1},\n",
    "        {\"created\":0,\"x\":1,\"y\":10,\"type\":\"w\",\"hp\":1},\n",
    "        {\"created\":0,\"x\":14,\"y\":3,\"type\":\"w\",\"hp\":1},\n",
    "        {\"created\":0,\"x\":0,\"y\":3,\"type\":\"w\",\"hp\":1},\n",
    "\n",
    "        {\"created\":0,\"x\":3,\"y\":13,\"type\":\"o\",\"hp\":3},\n",
    "        {\"created\":0,\"x\":11,\"y\":13,\"type\":\"o\",\"hp\":3},\n",
    "        {\"created\":0,\"x\":8,\"y\":10,\"type\":\"o\",\"hp\":3},\n",
    "        {\"created\":0,\"x\":6,\"y\":10,\"type\":\"o\",\"hp\":3},\n",
    "        {\"created\":0,\"x\":11,\"y\":11,\"type\":\"o\",\"hp\":3},\n",
    "        {\"created\":0,\"x\":3,\"y\":11,\"type\":\"o\",\"hp\":3},\n",
    "        {\"created\":0,\"x\":10,\"y\":12,\"type\":\"o\",\"hp\":3},\n",
    "        {\"created\":0,\"x\":4,\"y\":12,\"type\":\"o\",\"hp\":3},\n",
    "        {\"created\":0,\"x\":4,\"y\":14,\"type\":\"o\",\"hp\":3},\n",
    "        {\"created\":0,\"x\":10,\"y\":14,\"type\":\"o\",\"hp\":3},\n",
    "        {\"created\":0,\"x\":12,\"y\":11,\"type\":\"o\",\"hp\":3},\n",
    "        {\"created\":0,\"x\":2,\"y\":11,\"type\":\"o\",\"hp\":3},\n",
    "        {\"created\":0,\"x\":11,\"y\":14,\"type\":\"o\",\"hp\":3},\n",
    "        {\"created\":0,\"x\":3,\"y\":14,\"type\":\"o\",\"hp\":3}\n",
    "    ]\n",
    "}"
   ]
  },
  {
   "cell_type": "code",
   "execution_count": 3,
   "id": "f3648e56",
   "metadata": {},
   "outputs": [
    {
     "data": {
      "text/plain": [
       "dict_keys(['units', 'entities'])"
      ]
     },
     "execution_count": 3,
     "metadata": {},
     "output_type": "execute_result"
    }
   ],
   "source": [
    "mock_15x15_state.keys()"
   ]
  },
  {
   "cell_type": "code",
   "execution_count": 4,
   "id": "18f8d5a3",
   "metadata": {},
   "outputs": [
    {
     "data": {
      "text/plain": [
       "[{'created': 0, 'x': 10, 'y': 11, 'type': 'm'},\n",
       " {'created': 0, 'x': 4, 'y': 11, 'type': 'm'},\n",
       " {'created': 0, 'x': 14, 'y': 6, 'type': 'm'},\n",
       " {'created': 0, 'x': 0, 'y': 6, 'type': 'm'},\n",
       " {'created': 0, 'x': 11, 'y': 12, 'type': 'm'},\n",
       " {'created': 0, 'x': 3, 'y': 12, 'type': 'm'},\n",
       " {'created': 0, 'x': 11, 'y': 6, 'type': 'm'},\n",
       " {'created': 0, 'x': 3, 'y': 6, 'type': 'm'},\n",
       " {'created': 0, 'x': 6, 'y': 8, 'type': 'm'},\n",
       " {'created': 0, 'x': 8, 'y': 8, 'type': 'm'},\n",
       " {'created': 0, 'x': 14, 'y': 14, 'type': 'm'},\n",
       " {'created': 0, 'x': 0, 'y': 14, 'type': 'm'},\n",
       " {'created': 0, 'x': 9, 'y': 5, 'type': 'm'},\n",
       " {'created': 0, 'x': 5, 'y': 5, 'type': 'm'},\n",
       " {'created': 0, 'x': 2, 'y': 7, 'type': 'm'},\n",
       " {'created': 0, 'x': 12, 'y': 7, 'type': 'm'},\n",
       " {'created': 0, 'x': 6, 'y': 14, 'type': 'm'},\n",
       " {'created': 0, 'x': 8, 'y': 14, 'type': 'm'},\n",
       " {'created': 0, 'x': 4, 'y': 9, 'type': 'm'},\n",
       " {'created': 0, 'x': 10, 'y': 9, 'type': 'm'},\n",
       " {'created': 0, 'x': 5, 'y': 6, 'type': 'm'},\n",
       " {'created': 0, 'x': 9, 'y': 6, 'type': 'm'},\n",
       " {'created': 0, 'x': 6, 'y': 11, 'type': 'm'},\n",
       " {'created': 0, 'x': 8, 'y': 11, 'type': 'm'},\n",
       " {'created': 0, 'x': 5, 'y': 2, 'type': 'm'},\n",
       " {'created': 0, 'x': 9, 'y': 2, 'type': 'm'},\n",
       " {'created': 0, 'x': 8, 'y': 9, 'type': 'm'},\n",
       " {'created': 0, 'x': 6, 'y': 9, 'type': 'm'},\n",
       " {'created': 0, 'x': 0, 'y': 12, 'type': 'm'},\n",
       " {'created': 0, 'x': 14, 'y': 12, 'type': 'm'},\n",
       " {'created': 0, 'x': 12, 'y': 12, 'type': 'm'},\n",
       " {'created': 0, 'x': 2, 'y': 12, 'type': 'm'},\n",
       " {'created': 0, 'x': 1, 'y': 1, 'type': 'm'},\n",
       " {'created': 0, 'x': 13, 'y': 1, 'type': 'm'},\n",
       " {'created': 0, 'x': 11, 'y': 0, 'type': 'm'},\n",
       " {'created': 0, 'x': 3, 'y': 0, 'type': 'm'},\n",
       " {'created': 0, 'x': 12, 'y': 1, 'type': 'm'},\n",
       " {'created': 0, 'x': 2, 'y': 1, 'type': 'm'},\n",
       " {'created': 0, 'x': 0, 'y': 10, 'type': 'm'},\n",
       " {'created': 0, 'x': 14, 'y': 10, 'type': 'm'},\n",
       " {'created': 0, 'x': 14, 'y': 4, 'type': 'm'},\n",
       " {'created': 0, 'x': 0, 'y': 4, 'type': 'm'},\n",
       " {'created': 0, 'x': 4, 'y': 2, 'type': 'm'},\n",
       " {'created': 0, 'x': 10, 'y': 2, 'type': 'm'},\n",
       " {'created': 0, 'x': 11, 'y': 9, 'type': 'm'},\n",
       " {'created': 0, 'x': 3, 'y': 9, 'type': 'm'},\n",
       " {'created': 0, 'x': 8, 'y': 5, 'type': 'm'},\n",
       " {'created': 0, 'x': 6, 'y': 5, 'type': 'm'},\n",
       " {'created': 0, 'x': 4, 'y': 6, 'type': 'm'},\n",
       " {'created': 0, 'x': 10, 'y': 6, 'type': 'm'},\n",
       " {'created': 0, 'x': 1, 'y': 6, 'type': 'w', 'hp': 1},\n",
       " {'created': 0, 'x': 13, 'y': 6, 'type': 'w', 'hp': 1},\n",
       " {'created': 0, 'x': 8, 'y': 3, 'type': 'w', 'hp': 1},\n",
       " {'created': 0, 'x': 6, 'y': 3, 'type': 'w', 'hp': 1},\n",
       " {'created': 0, 'x': 6, 'y': 7, 'type': 'w', 'hp': 1},\n",
       " {'created': 0, 'x': 8, 'y': 7, 'type': 'w', 'hp': 1},\n",
       " {'created': 0, 'x': 11, 'y': 7, 'type': 'w', 'hp': 1},\n",
       " {'created': 0, 'x': 3, 'y': 7, 'type': 'w', 'hp': 1},\n",
       " {'created': 0, 'x': 9, 'y': 3, 'type': 'w', 'hp': 1},\n",
       " {'created': 0, 'x': 5, 'y': 3, 'type': 'w', 'hp': 1},\n",
       " {'created': 0, 'x': 1, 'y': 13, 'type': 'w', 'hp': 1},\n",
       " {'created': 0, 'x': 13, 'y': 13, 'type': 'w', 'hp': 1},\n",
       " {'created': 0, 'x': 14, 'y': 2, 'type': 'w', 'hp': 1},\n",
       " {'created': 0, 'x': 0, 'y': 2, 'type': 'w', 'hp': 1},\n",
       " {'created': 0, 'x': 10, 'y': 0, 'type': 'w', 'hp': 1},\n",
       " {'created': 0, 'x': 4, 'y': 0, 'type': 'w', 'hp': 1},\n",
       " {'created': 0, 'x': 2, 'y': 3, 'type': 'w', 'hp': 1},\n",
       " {'created': 0, 'x': 12, 'y': 3, 'type': 'w', 'hp': 1},\n",
       " {'created': 0, 'x': 13, 'y': 9, 'type': 'w', 'hp': 1},\n",
       " {'created': 0, 'x': 1, 'y': 9, 'type': 'w', 'hp': 1},\n",
       " {'created': 0, 'x': 6, 'y': 1, 'type': 'w', 'hp': 1},\n",
       " {'created': 0, 'x': 8, 'y': 1, 'type': 'w', 'hp': 1},\n",
       " {'created': 0, 'x': 5, 'y': 4, 'type': 'w', 'hp': 1},\n",
       " {'created': 0, 'x': 9, 'y': 4, 'type': 'w', 'hp': 1},\n",
       " {'created': 0, 'x': 11, 'y': 4, 'type': 'w', 'hp': 1},\n",
       " {'created': 0, 'x': 3, 'y': 4, 'type': 'w', 'hp': 1},\n",
       " {'created': 0, 'x': 0, 'y': 1, 'type': 'w', 'hp': 1},\n",
       " {'created': 0, 'x': 14, 'y': 1, 'type': 'w', 'hp': 1},\n",
       " {'created': 0, 'x': 8, 'y': 0, 'type': 'w', 'hp': 1},\n",
       " {'created': 0, 'x': 6, 'y': 0, 'type': 'w', 'hp': 1},\n",
       " {'created': 0, 'x': 13, 'y': 7, 'type': 'w', 'hp': 1},\n",
       " {'created': 0, 'x': 1, 'y': 7, 'type': 'w', 'hp': 1},\n",
       " {'created': 0, 'x': 3, 'y': 8, 'type': 'w', 'hp': 1},\n",
       " {'created': 0, 'x': 11, 'y': 8, 'type': 'w', 'hp': 1},\n",
       " {'created': 0, 'x': 10, 'y': 7, 'type': 'w', 'hp': 1},\n",
       " {'created': 0, 'x': 4, 'y': 7, 'type': 'w', 'hp': 1},\n",
       " {'created': 0, 'x': 14, 'y': 0, 'type': 'w', 'hp': 1},\n",
       " {'created': 0, 'x': 0, 'y': 0, 'type': 'w', 'hp': 1},\n",
       " {'created': 0, 'x': 9, 'y': 1, 'type': 'w', 'hp': 1},\n",
       " {'created': 0, 'x': 5, 'y': 1, 'type': 'w', 'hp': 1},\n",
       " {'created': 0, 'x': 11, 'y': 5, 'type': 'w', 'hp': 1},\n",
       " {'created': 0, 'x': 3, 'y': 5, 'type': 'w', 'hp': 1},\n",
       " {'created': 0, 'x': 2, 'y': 10, 'type': 'w', 'hp': 1},\n",
       " {'created': 0, 'x': 12, 'y': 10, 'type': 'w', 'hp': 1},\n",
       " {'created': 0, 'x': 9, 'y': 12, 'type': 'w', 'hp': 1},\n",
       " {'created': 0, 'x': 5, 'y': 12, 'type': 'w', 'hp': 1},\n",
       " {'created': 0, 'x': 1, 'y': 11, 'type': 'w', 'hp': 1},\n",
       " {'created': 0, 'x': 13, 'y': 11, 'type': 'w', 'hp': 1},\n",
       " {'created': 0, 'x': 13, 'y': 12, 'type': 'w', 'hp': 1},\n",
       " {'created': 0, 'x': 1, 'y': 12, 'type': 'w', 'hp': 1},\n",
       " {'created': 0, 'x': 4, 'y': 10, 'type': 'w', 'hp': 1},\n",
       " {'created': 0, 'x': 10, 'y': 10, 'type': 'w', 'hp': 1},\n",
       " {'created': 0, 'x': 13, 'y': 10, 'type': 'w', 'hp': 1},\n",
       " {'created': 0, 'x': 1, 'y': 10, 'type': 'w', 'hp': 1},\n",
       " {'created': 0, 'x': 14, 'y': 3, 'type': 'w', 'hp': 1},\n",
       " {'created': 0, 'x': 0, 'y': 3, 'type': 'w', 'hp': 1},\n",
       " {'created': 0, 'x': 3, 'y': 13, 'type': 'o', 'hp': 3},\n",
       " {'created': 0, 'x': 11, 'y': 13, 'type': 'o', 'hp': 3},\n",
       " {'created': 0, 'x': 8, 'y': 10, 'type': 'o', 'hp': 3},\n",
       " {'created': 0, 'x': 6, 'y': 10, 'type': 'o', 'hp': 3},\n",
       " {'created': 0, 'x': 11, 'y': 11, 'type': 'o', 'hp': 3},\n",
       " {'created': 0, 'x': 3, 'y': 11, 'type': 'o', 'hp': 3},\n",
       " {'created': 0, 'x': 10, 'y': 12, 'type': 'o', 'hp': 3},\n",
       " {'created': 0, 'x': 4, 'y': 12, 'type': 'o', 'hp': 3},\n",
       " {'created': 0, 'x': 4, 'y': 14, 'type': 'o', 'hp': 3},\n",
       " {'created': 0, 'x': 10, 'y': 14, 'type': 'o', 'hp': 3},\n",
       " {'created': 0, 'x': 12, 'y': 11, 'type': 'o', 'hp': 3},\n",
       " {'created': 0, 'x': 2, 'y': 11, 'type': 'o', 'hp': 3},\n",
       " {'created': 0, 'x': 11, 'y': 14, 'type': 'o', 'hp': 3},\n",
       " {'created': 0, 'x': 3, 'y': 14, 'type': 'o', 'hp': 3}]"
      ]
     },
     "execution_count": 4,
     "metadata": {},
     "output_type": "execute_result"
    }
   ],
   "source": [
    "mock_15x15_state[\"entities\"]"
   ]
  },
  {
   "cell_type": "code",
   "execution_count": 5,
   "id": "2ad75e89",
   "metadata": {},
   "outputs": [],
   "source": [
    "holder = pd.DataFrame(mock_15x15_state[\"entities\"])"
   ]
  },
  {
   "cell_type": "code",
   "execution_count": 6,
   "id": "e8b8a634",
   "metadata": {},
   "outputs": [
    {
     "data": {
      "text/html": [
       "<div>\n",
       "<style scoped>\n",
       "    .dataframe tbody tr th:only-of-type {\n",
       "        vertical-align: middle;\n",
       "    }\n",
       "\n",
       "    .dataframe tbody tr th {\n",
       "        vertical-align: top;\n",
       "    }\n",
       "\n",
       "    .dataframe thead th {\n",
       "        text-align: right;\n",
       "    }\n",
       "</style>\n",
       "<table border=\"1\" class=\"dataframe\">\n",
       "  <thead>\n",
       "    <tr style=\"text-align: right;\">\n",
       "      <th></th>\n",
       "      <th>x</th>\n",
       "      <th>y</th>\n",
       "      <th>type</th>\n",
       "      <th>hp</th>\n",
       "    </tr>\n",
       "  </thead>\n",
       "  <tbody>\n",
       "    <tr>\n",
       "      <th>0</th>\n",
       "      <td>10</td>\n",
       "      <td>11</td>\n",
       "      <td>m</td>\n",
       "      <td>NaN</td>\n",
       "    </tr>\n",
       "    <tr>\n",
       "      <th>1</th>\n",
       "      <td>4</td>\n",
       "      <td>11</td>\n",
       "      <td>m</td>\n",
       "      <td>NaN</td>\n",
       "    </tr>\n",
       "    <tr>\n",
       "      <th>2</th>\n",
       "      <td>14</td>\n",
       "      <td>6</td>\n",
       "      <td>m</td>\n",
       "      <td>NaN</td>\n",
       "    </tr>\n",
       "    <tr>\n",
       "      <th>3</th>\n",
       "      <td>0</td>\n",
       "      <td>6</td>\n",
       "      <td>m</td>\n",
       "      <td>NaN</td>\n",
       "    </tr>\n",
       "    <tr>\n",
       "      <th>4</th>\n",
       "      <td>11</td>\n",
       "      <td>12</td>\n",
       "      <td>m</td>\n",
       "      <td>NaN</td>\n",
       "    </tr>\n",
       "    <tr>\n",
       "      <th>...</th>\n",
       "      <td>...</td>\n",
       "      <td>...</td>\n",
       "      <td>...</td>\n",
       "      <td>...</td>\n",
       "    </tr>\n",
       "    <tr>\n",
       "      <th>115</th>\n",
       "      <td>10</td>\n",
       "      <td>14</td>\n",
       "      <td>o</td>\n",
       "      <td>3.0</td>\n",
       "    </tr>\n",
       "    <tr>\n",
       "      <th>116</th>\n",
       "      <td>12</td>\n",
       "      <td>11</td>\n",
       "      <td>o</td>\n",
       "      <td>3.0</td>\n",
       "    </tr>\n",
       "    <tr>\n",
       "      <th>117</th>\n",
       "      <td>2</td>\n",
       "      <td>11</td>\n",
       "      <td>o</td>\n",
       "      <td>3.0</td>\n",
       "    </tr>\n",
       "    <tr>\n",
       "      <th>118</th>\n",
       "      <td>11</td>\n",
       "      <td>14</td>\n",
       "      <td>o</td>\n",
       "      <td>3.0</td>\n",
       "    </tr>\n",
       "    <tr>\n",
       "      <th>119</th>\n",
       "      <td>3</td>\n",
       "      <td>14</td>\n",
       "      <td>o</td>\n",
       "      <td>3.0</td>\n",
       "    </tr>\n",
       "  </tbody>\n",
       "</table>\n",
       "<p>120 rows × 4 columns</p>\n",
       "</div>"
      ],
      "text/plain": [
       "      x   y type   hp\n",
       "0    10  11    m  NaN\n",
       "1     4  11    m  NaN\n",
       "2    14   6    m  NaN\n",
       "3     0   6    m  NaN\n",
       "4    11  12    m  NaN\n",
       "..   ..  ..  ...  ...\n",
       "115  10  14    o  3.0\n",
       "116  12  11    o  3.0\n",
       "117   2  11    o  3.0\n",
       "118  11  14    o  3.0\n",
       "119   3  14    o  3.0\n",
       "\n",
       "[120 rows x 4 columns]"
      ]
     },
     "execution_count": 6,
     "metadata": {},
     "output_type": "execute_result"
    }
   ],
   "source": [
    "holder = holder[[\"x\", \"y\", \"type\", \"hp\"]]\n",
    "holder"
   ]
  },
  {
   "cell_type": "code",
   "execution_count": 7,
   "id": "a823d27c",
   "metadata": {},
   "outputs": [],
   "source": [
    "metals_df = np.array(holder[holder[\"type\"] == \"m\"][[\"x\", \"y\"]])\n",
    "woods_df = np.array(holder[holder[\"type\"] == \"w\"][[\"x\", \"y\"]])\n",
    "ores_df = holder[holder[\"type\"] == \"o\"][[\"x\", \"y\", \"hp\"]]\n",
    "ores_df_3 = np.array(ores_df[ores_df[\"hp\"] == 3][[\"x\", \"y\"]])\n",
    "ores_df_2 = np.array(ores_df[ores_df[\"hp\"] == 2][[\"x\", \"y\"]])\n",
    "ores_df_1 = np.array(ores_df[ores_df[\"hp\"] == 1][[\"x\", \"y\"]])"
   ]
  },
  {
   "cell_type": "code",
   "execution_count": 8,
   "id": "4dab5c3f",
   "metadata": {},
   "outputs": [],
   "source": [
    "ores3 = np.zeros((15, 15))\n",
    "ores2 = np.zeros((15, 15))\n",
    "ores1 = np.zeros((15, 15))\n",
    "metals = np.zeros((15, 15))\n",
    "woods = np.zeros((15, 15))"
   ]
  },
  {
   "cell_type": "code",
   "execution_count": 9,
   "id": "2bb19be8",
   "metadata": {},
   "outputs": [
    {
     "data": {
      "text/plain": [
       "array([[10,  4, 14,  0, 11,  3, 11,  3,  6,  8, 14,  0,  9,  5,  2, 12,\n",
       "         6,  8,  4, 10,  5,  9,  6,  8,  5,  9,  8,  6,  0, 14, 12,  2,\n",
       "         1, 13, 11,  3, 12,  2,  0, 14, 14,  0,  4, 10, 11,  3,  8,  6,\n",
       "         4, 10],\n",
       "       [11, 11,  6,  6, 12, 12,  6,  6,  8,  8, 14, 14,  5,  5,  7,  7,\n",
       "        14, 14,  9,  9,  6,  6, 11, 11,  2,  2,  9,  9, 12, 12, 12, 12,\n",
       "         1,  1,  0,  0,  1,  1, 10, 10,  4,  4,  2,  2,  9,  9,  5,  5,\n",
       "         6,  6]], dtype=int64)"
      ]
     },
     "execution_count": 9,
     "metadata": {},
     "output_type": "execute_result"
    }
   ],
   "source": [
    "metals_df.T"
   ]
  },
  {
   "cell_type": "code",
   "execution_count": 17,
   "id": "f2813f4c",
   "metadata": {
    "scrolled": true
   },
   "outputs": [
    {
     "data": {
      "text/plain": [
       "array([[0., 0., 0., 1., 0., 0., 0., 0., 0., 0., 0., 1., 0., 0., 0.],\n",
       "       [0., 1., 1., 0., 0., 0., 0., 0., 0., 0., 0., 0., 1., 1., 0.],\n",
       "       [0., 0., 0., 0., 1., 1., 0., 0., 0., 1., 1., 0., 0., 0., 0.],\n",
       "       [0., 0., 0., 0., 0., 0., 0., 0., 0., 0., 0., 0., 0., 0., 0.],\n",
       "       [1., 0., 0., 0., 0., 0., 0., 0., 0., 0., 0., 0., 0., 0., 1.],\n",
       "       [0., 0., 0., 0., 0., 1., 1., 0., 1., 1., 0., 0., 0., 0., 0.],\n",
       "       [1., 0., 0., 1., 1., 1., 0., 0., 0., 1., 1., 1., 0., 0., 1.],\n",
       "       [0., 0., 1., 0., 0., 0., 0., 0., 0., 0., 0., 0., 1., 0., 0.],\n",
       "       [0., 0., 0., 0., 0., 0., 1., 0., 1., 0., 0., 0., 0., 0., 0.],\n",
       "       [0., 0., 0., 1., 1., 0., 1., 0., 1., 0., 1., 1., 0., 0., 0.],\n",
       "       [1., 0., 0., 0., 0., 0., 0., 0., 0., 0., 0., 0., 0., 0., 1.],\n",
       "       [0., 0., 0., 0., 1., 0., 1., 0., 1., 0., 1., 0., 0., 0., 0.],\n",
       "       [1., 0., 1., 1., 0., 0., 0., 0., 0., 0., 0., 1., 1., 0., 1.],\n",
       "       [0., 0., 0., 0., 0., 0., 0., 0., 0., 0., 0., 0., 0., 0., 0.],\n",
       "       [1., 0., 0., 0., 0., 0., 1., 0., 1., 0., 0., 0., 0., 0., 1.]])"
      ]
     },
     "execution_count": 17,
     "metadata": {},
     "output_type": "execute_result"
    }
   ],
   "source": [
    "np.put(metals, np.ravel_multi_index(metals_df.T, metals.shape), 1)\n",
    "np.put(woods, np.ravel_multi_index(woods_df.T, woods.shape), 1)\n",
    "np.put(ores3, np.ravel_multi_index(ores_df_3.T, ores3.shape), 1)\n",
    "np.put(ores2, np.ravel_multi_index(ores_df_2.T, ores2.shape), 1)\n",
    "np.put(ores1, np.ravel_multi_index(ores_df_1.T, ores1.shape), 1)\n",
    "m = metals.T\n",
    "w = woods.T\n",
    "o3 = ores3.T\n",
    "o2 = ores2.T\n",
    "o1 = ores1.T\n",
    "m"
   ]
  },
  {
   "cell_type": "code",
   "execution_count": 23,
   "id": "12834b87",
   "metadata": {
    "scrolled": false
   },
   "outputs": [
    {
     "data": {
      "text/plain": [
       "<matplotlib.image.AxesImage at 0x2356937b848>"
      ]
     },
     "execution_count": 23,
     "metadata": {},
     "output_type": "execute_result"
    },
    {
     "data": {
      "image/png": "[encoded data removed]",
      "text/plain": [
       "<Figure size 432x288 with 1 Axes>"
      ]
     },
     "metadata": {},
     "output_type": "display_data"
    }
   ],
   "source": [
    "plt.xticks([])\n",
    "plt.yticks([])\n",
    "plt.imshow(m, cmap=\"gray_r\", origin=\"lower\")"
   ]
  },
  {
   "cell_type": "code",
   "execution_count": 12,
   "id": "f993525c",
   "metadata": {},
   "outputs": [
    {
     "data": {
      "text/plain": [
       "<matplotlib.image.AxesImage at 0x23567f0d888>"
      ]
     },
     "execution_count": 12,
     "metadata": {},
     "output_type": "execute_result"
    },
    {
     "data": {
      "image/png": "[encoded data removed]",
      "text/plain": [
       "<Figure size 432x288 with 1 Axes>"
      ]
     },
     "metadata": {
      "needs_background": "light"
     },
     "output_type": "display_data"
    }
   ],
   "source": [
    "plt.imshow(w, cmap=\"gray_r\", origin=\"lower\")"
   ]
  },
  {
   "cell_type": "code",
   "execution_count": 13,
   "id": "93bcb90b",
   "metadata": {},
   "outputs": [
    {
     "data": {
      "text/plain": [
       "<matplotlib.image.AxesImage at 0x23565d4c808>"
      ]
     },
     "execution_count": 13,
     "metadata": {},
     "output_type": "execute_result"
    },
    {
     "data": {
      "image/png": "[encoded data removed]",
      "text/plain": [
       "<Figure size 432x288 with 1 Axes>"
      ]
     },
     "metadata": {
      "needs_background": "light"
     },
     "output_type": "display_data"
    }
   ],
   "source": [
    "plt.imshow(o3, cmap=\"gray_r\", origin=\"lower\")"
   ]
  },
  {
   "cell_type": "code",
   "execution_count": 14,
   "id": "df52ca38",
   "metadata": {},
   "outputs": [
    {
     "data": {
      "text/plain": [
       "<matplotlib.image.AxesImage at 0x2356803a1c8>"
      ]
     },
     "execution_count": 14,
     "metadata": {},
     "output_type": "execute_result"
    },
    {
     "data": {
      "image/png": "[encoded data removed]",
      "text/plain": [
       "<Figure size 432x288 with 1 Axes>"
      ]
     },
     "metadata": {
      "needs_background": "light"
     },
     "output_type": "display_data"
    }
   ],
   "source": [
    "plt.imshow(o2, cmap=\"gray_r\", origin=\"lower\")"
   ]
  },
  {
   "cell_type": "code",
   "execution_count": 15,
   "id": "5519ac1b",
   "metadata": {},
   "outputs": [
    {
     "data": {
      "text/plain": [
       "<matplotlib.image.AxesImage at 0x2356907e7c8>"
      ]
     },
     "execution_count": 15,
     "metadata": {},
     "output_type": "execute_result"
    },
    {
     "data": {
      "image/png": "[encoded data removed]",
      "text/plain": [
       "<Figure size 432x288 with 1 Axes>"
      ]
     },
     "metadata": {
      "needs_background": "light"
     },
     "output_type": "display_data"
    }
   ],
   "source": [
    "plt.imshow(o1, cmap=\"gray_r\", origin=\"lower\")"
   ]
  },
  {
   "cell_type": "code",
   "execution_count": 16,
   "id": "450743a3",
   "metadata": {},
   "outputs": [
    {
     "data": {
      "text/plain": [
       "array([[[1., 0., 0., 0., 1.],\n",
       "        [0., 1., 0., 1., 0.],\n",
       "        [1., 0., 0., 0., 1.],\n",
       "        ...,\n",
       "        [0., 0., 0., 1., 0.],\n",
       "        [1., 0., 0., 0., 1.],\n",
       "        [0., 1., 0., 0., 0.]],\n",
       "\n",
       "       [[0., 0., 0., 1., 0.],\n",
       "        [0., 0., 0., 0., 0.],\n",
       "        [0., 1., 0., 0., 0.],\n",
       "        ...,\n",
       "        [0., 1., 0., 0., 0.],\n",
       "        [0., 0., 0., 0., 0.],\n",
       "        [0., 0., 0., 1., 0.]],\n",
       "\n",
       "       [[0., 1., 1., 0., 1.],\n",
       "        [0., 0., 0., 0., 0.],\n",
       "        [1., 0., 1., 1., 0.],\n",
       "        ...,\n",
       "        [0., 0., 0., 0., 0.],\n",
       "        [0., 0., 0., 0., 0.],\n",
       "        [0., 0., 0., 0., 0.]],\n",
       "\n",
       "       ...,\n",
       "\n",
       "       [[0., 0., 0., 0., 0.],\n",
       "        [0., 0., 0., 0., 0.],\n",
       "        [0., 0., 0., 0., 0.],\n",
       "        ...,\n",
       "        [0., 0., 0., 0., 0.],\n",
       "        [0., 0., 0., 0., 0.],\n",
       "        [0., 0., 0., 0., 0.]],\n",
       "\n",
       "       [[0., 0., 0., 0., 0.],\n",
       "        [0., 0., 0., 0., 0.],\n",
       "        [0., 0., 0., 0., 0.],\n",
       "        ...,\n",
       "        [0., 0., 0., 0., 0.],\n",
       "        [0., 0., 0., 0., 0.],\n",
       "        [0., 0., 0., 0., 0.]],\n",
       "\n",
       "       [[0., 0., 0., 0., 0.],\n",
       "        [0., 0., 0., 0., 0.],\n",
       "        [0., 0., 0., 0., 0.],\n",
       "        ...,\n",
       "        [0., 0., 0., 0., 0.],\n",
       "        [0., 0., 0., 0., 0.],\n",
       "        [0., 0., 0., 0., 0.]]])"
      ]
     },
     "execution_count": 16,
     "metadata": {},
     "output_type": "execute_result"
    }
   ],
   "source": [
    "x = np.stack([w, m, o3, o2, o1]).reshape(15, 15, 5)\n",
    "x"
   ]
  },
  {
   "cell_type": "code",
   "execution_count": null,
   "id": "36288003",
   "metadata": {},
   "outputs": [],
   "source": []
  }
 ],
 "metadata": {
  "kernelspec": {
   "display_name": "Python 3 (ipykernel)",
   "language": "python",
   "name": "python3"
  },
  "language_info": {
   "codemirror_mode": {
    "name": "ipython",
    "version": 3
   },
   "file_extension": ".py",
   "mimetype": "text/x-python",
   "name": "python",
   "nbconvert_exporter": "python",
   "pygments_lexer": "ipython3",
   "version": "3.7.11"
  }
 },
 "nbformat": 4,
 "nbformat_minor": 5
}
